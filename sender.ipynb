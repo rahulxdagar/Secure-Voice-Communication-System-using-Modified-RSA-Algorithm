{
 "cells": [
  {
   "cell_type": "code",
   "execution_count": 7,
   "metadata": {},
   "outputs": [],
   "source": [
    "import socket\n",
    "s=socket.socket()\n",
    "import speech_recognition as sr\n",
    "import RSA_cryptoproj  as cry\n",
    "import HashingAndSalting as hs\n",
    "import hashlib"
   ]
  },
  {
   "cell_type": "code",
   "execution_count": 8,
   "metadata": {},
   "outputs": [
    {
     "name": "stdout",
     "output_type": "stream",
     "text": [
      "Client is Connected\n",
      "Say something!\n",
      "You said: hello hello\n",
      "hello hello\n",
      "e挱z纨i⨥o挱i纨s\n",
      "鉙挱纨纨o⨥鉙挱纨纨o\n"
     ]
    }
   ],
   "source": [
    "port=1234\n",
    "ip=\"192.168.0.112\"\n",
    "client = socket.socket(socket.AF_INET, socket.SOCK_STREAM)\n",
    "client.connect((ip, port))\n",
    "r = sr.Recognizer()\n",
    "with sr.Microphone() as source:\n",
    "    print(\"Client is Connected\")\n",
    "    print(\"Say something!\")\n",
    "    audio = r.listen(source)\n",
    "    try:\n",
    "        print(\"You said: \" + r.recognize_google(audio))\n",
    "    except sr.UnknownValueError:\n",
    "        print(\"Google Speech Recognition could not understand audio\")\n",
    "    text=r.recognize_google(audio)\n",
    "    print(text)\n",
    "    enc=cry.encrypt_string(text)\n",
    "    encrypted_salted_text = hs.salt(enc)\n",
    "    print(encrypted_salted_text)\n",
    "#hashing done through SHA-256 algorithm\n",
    "    Sender_HASH = hashlib.sha256(encrypted_salted_text.encode()).hexdigest()\n",
    "    client.send(enc.encode())\n",
    "    print(enc)\n",
    "    client.send(Sender_HASH.encode())\n"
   ]
  },
  {
   "cell_type": "code",
   "execution_count": null,
   "metadata": {},
   "outputs": [],
   "source": []
  }
 ],
 "metadata": {
  "kernelspec": {
   "display_name": "Python 3",
   "language": "python",
   "name": "python3"
  },
  "language_info": {
   "codemirror_mode": {
    "name": "ipython",
    "version": 3
   },
   "file_extension": ".py",
   "mimetype": "text/x-python",
   "name": "python",
   "nbconvert_exporter": "python",
   "pygments_lexer": "ipython3",
   "version": "3.7.4"
  }
 },
 "nbformat": 4,
 "nbformat_minor": 2
}
